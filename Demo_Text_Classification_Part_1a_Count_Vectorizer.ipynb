{
  "cells": [
    {
      "cell_type": "markdown",
      "metadata": {
        "id": "x_f8rC6zu_8D"
      },
      "source": [
        "zss2024 for 23MSDS-NLP course"
      ]
    },
    {
      "cell_type": "code",
      "execution_count": 1,
      "metadata": {
        "colab": {
          "base_uri": "https://localhost:8080/"
        },
        "id": "XPrPJuBeU5tl",
        "outputId": "1a372338-504f-4537-94f4-112bd0d6b41d"
      },
      "outputs": [
        {
          "name": "stderr",
          "output_type": "stream",
          "text": [
            "[nltk_data] Downloading package punkt to\n",
            "[nltk_data]     C:\\Users\\Jamshaid\\AppData\\Roaming\\nltk_data...\n",
            "[nltk_data]   Package punkt is already up-to-date!\n",
            "[nltk_data] Downloading package averaged_perceptron_tagger to\n",
            "[nltk_data]     C:\\Users\\Jamshaid\\AppData\\Roaming\\nltk_data...\n",
            "[nltk_data]   Package averaged_perceptron_tagger is already up-to-\n",
            "[nltk_data]       date!\n",
            "[nltk_data] Downloading package stopwords to\n",
            "[nltk_data]     C:\\Users\\Jamshaid\\AppData\\Roaming\\nltk_data...\n",
            "[nltk_data]   Package stopwords is already up-to-date!\n",
            "[nltk_data] Downloading package wordnet to\n",
            "[nltk_data]     C:\\Users\\Jamshaid\\AppData\\Roaming\\nltk_data...\n",
            "[nltk_data]   Package wordnet is already up-to-date!\n"
          ]
        }
      ],
      "source": [
        "import nltk\n",
        "nltk.download('punkt')\n",
        "nltk.download('averaged_perceptron_tagger')\n",
        "nltk.download('stopwords')\n",
        "nltk.download('wordnet')\n",
        "\n",
        "from nltk.tokenize import word_tokenize\n",
        "from nltk.stem import WordNetLemmatizer\n",
        "\n",
        "lemmatizer = WordNetLemmatizer()\n",
        "\n",
        "from nltk.corpus import stopwords\n",
        "\n",
        "stop_words = set(stopwords.words('english'))\n",
        "\n",
        "import numpy as np\n",
        "import pandas as pd\n",
        "\n",
        "from sklearn.feature_extraction.text import CountVectorizer, TfidfVectorizer\n",
        "\n",
        "from sklearn.model_selection import train_test_split\n",
        "\n",
        "from sklearn.metrics import classification_report, confusion_matrix\n",
        "from sklearn.svm import LinearSVC\n",
        "from sklearn.preprocessing import StandardScaler\n",
        "import matplotlib.pyplot as plt\n",
        "import seaborn as sns\n",
        "\n",
        "!pip install contractions -q\n",
        "import contractions\n",
        "\n",
        "!pip install textacy -q\n",
        "from textacy import preprocessing\n",
        "\n",
        "import re\n",
        "import string"
      ]
    },
    {
      "cell_type": "markdown",
      "metadata": {
        "id": "-AhK2gu1fxI8"
      },
      "source": [
        "## Settings"
      ]
    },
    {
      "cell_type": "code",
      "execution_count": 10,
      "metadata": {
        "id": "B5BusQWXfwwc"
      },
      "outputs": [],
      "source": [
        "fileIn = r\"D:\\Ai course\\NAVTTAC Code\\Text Classification\\text_classification_toy_dataset.xlsx\""
      ]
    },
    {
      "cell_type": "markdown",
      "metadata": {
        "id": "3Q4VTSH6f2xM"
      },
      "source": [
        "## Read dataset"
      ]
    },
    {
      "cell_type": "code",
      "execution_count": 11,
      "metadata": {
        "colab": {
          "base_uri": "https://localhost:8080/"
        },
        "id": "1en-E25Uf5lN",
        "outputId": "01100bbd-2224-41a1-f5eb-c1bcd7af6de3"
      },
      "outputs": [
        {
          "name": "stdout",
          "output_type": "stream",
          "text": [
            "1000 (1000,) [0 1] 500 500\n"
          ]
        }
      ],
      "source": [
        "df = pd.read_excel( fileIn, index_col=None )\n",
        "\n",
        "text_all = df[\"text\"].to_list()\n",
        "labels = df[\"label\"].to_numpy()\n",
        "\n",
        "print( len(text_all), labels.shape, np.unique(labels), sum(labels==0), sum(labels==1) )"
      ]
    },
    {
      "cell_type": "markdown",
      "metadata": {
        "id": "u0eejivNgY0v"
      },
      "source": [
        "## Preprocessing"
      ]
    },
    {
      "cell_type": "code",
      "execution_count": 12,
      "metadata": {
        "id": "dl_aTuI3gmEu"
      },
      "outputs": [],
      "source": [
        "# Define function for punctuation removal\n",
        "def f_punctuation_removal(text):\n",
        "    text = re.sub('[%s]' % re.escape(string.punctuation), '', text)\n",
        "    return text\n",
        "\n",
        "# Define function for whitespace normalization\n",
        "def f_whitespace_normalization(text):\n",
        "  text = re.sub('[\\s]+', ' ', text).strip()\n",
        "  return text\n",
        "\n",
        "# Remove contractions\n",
        "text_all = [contractions.fix( text_current, slang=False) for text_current in text_all]\n",
        "\n",
        "# Other steps... (feel free to add/remove as per your informed choice)\n",
        "text_data = []\n",
        "\n",
        "for text_curr in text_all:\n",
        "\n",
        "  # - Tokenize\n",
        "  tokens = word_tokenize(text_curr)\n",
        "\n",
        "  # - Lemmatize\n",
        "  lemmatized_tokens = [lemmatizer.lemmatize(token, pos='v') for token in tokens]\n",
        "\n",
        "  # - Remove stopwords\n",
        "  filtered_tokens = [token for token in lemmatized_tokens if token not in stop_words]\n",
        "\n",
        "  # - Convert from tokens to sentence, lower case, punctuation removal,and append to list\n",
        "  sent = \" \".join( filtered_tokens ).lower()\n",
        "  sent = f_punctuation_removal( sent )\n",
        "\n",
        "  # - Remove hashtags, user handles, emojis, urls, quotation marks, brackets, numbers\n",
        "  sent = preprocessing.replace.hashtags( sent, repl=\" \")\n",
        "  sent = preprocessing.replace.user_handles( sent, repl=\" \")\n",
        "  sent = preprocessing.replace.emojis( sent, repl=\" \")\n",
        "  sent = preprocessing.replace.urls( sent, repl=\" \")\n",
        "\n",
        "  sent = preprocessing.normalize.quotation_marks( sent )\n",
        "  sent = preprocessing.remove.html_tags( sent )\n",
        "  sent = preprocessing.remove.brackets( sent )\n",
        "  sent = re.sub('\"', '', sent)\n",
        "  sent = re.sub(\"'\", '', sent)\n",
        "  sent = preprocessing.replace.numbers( sent, repl=\" \" )\n",
        "\n",
        "  # - Normalize whitespace\n",
        "  sent = f_whitespace_normalization( sent )\n",
        "\n",
        "  # - Append to list\n",
        "  text_data.append( sent )\n",
        "\n"
      ]
    },
    {
      "cell_type": "markdown",
      "metadata": {
        "id": "PcfSOfnUofwU"
      },
      "source": [
        "## Text Classification pipeline"
      ]
    },
    {
      "cell_type": "code",
      "execution_count": 13,
      "metadata": {
        "colab": {
          "base_uri": "https://localhost:8080/"
        },
        "id": "gEoPIpBin-Zm",
        "outputId": "bbd0e594-925b-40c3-fe61-1cc16966e7ca"
      },
      "outputs": [
        {
          "name": "stdout",
          "output_type": "stream",
          "text": [
            "800 0.5 200 0.5\n"
          ]
        }
      ],
      "source": [
        "# Split the dataset into training and testing subsets (80% train, 20% test)\n",
        "text_Train, text_Test, Labs_Train, Labs_Test = train_test_split( text_data, labels, test_size=0.2, stratify=labels, random_state=0)\n",
        "\n",
        "print( len(text_Train), sum(Labs_Train)/len(Labs_Train), len(text_Test), sum(Labs_Test)/len(Labs_Test) )"
      ]
    },
    {
      "cell_type": "code",
      "execution_count": 29,
      "metadata": {
        "id": "uGKRioJDpDpX"
      },
      "outputs": [],
      "source": [
        "# Set custom hyperparameters for CountVectorizer\n",
        "vectorizer = CountVectorizer( ngram_range=(1, 1),  # Consider unigrams and bigrams\n",
        "                              max_features=10000  # Limit the number of features to 5000\n",
        "                              )"
      ]
    },
    {
      "cell_type": "code",
      "execution_count": 30,
      "metadata": {
        "colab": {
          "base_uri": "https://localhost:8080/"
        },
        "id": "2zhMJhxjpSB8",
        "outputId": "7040200c-d6ab-4d35-8931-8c1470c18176"
      },
      "outputs": [
        {
          "name": "stdout",
          "output_type": "stream",
          "text": [
            "(800, 5039) (200, 5039)\n"
          ]
        }
      ],
      "source": [
        "# Apply CountVectorizer with custom hyperparameters to transform the text data into numerical features\n",
        "Feats_Train_countvec = vectorizer.fit_transform( text_Train ).toarray()\n",
        "Feats_Test_countvec = vectorizer.transform( text_Test ).toarray()\n",
        "\n",
        "print( Feats_Train_countvec.shape, Feats_Test_countvec.shape )"
      ]
    },
    {
      "cell_type": "code",
      "execution_count": 31,
      "metadata": {
        "colab": {
          "base_uri": "https://localhost:8080/"
        },
        "id": "o46EXzoQqBQK",
        "outputId": "3223d607-3d69-4e87-b7b1-da3759c8da40"
      },
      "outputs": [
        {
          "name": "stdout",
          "output_type": "stream",
          "text": [
            "0.00125 0.035333235062756436\n"
          ]
        }
      ],
      "source": [
        "print( np.mean(Feats_Train_countvec[:,0]), np.std(Feats_Train_countvec[:,0]) )"
      ]
    },
    {
      "cell_type": "code",
      "execution_count": 32,
      "metadata": {
        "colab": {
          "base_uri": "https://localhost:8080/"
        },
        "id": "UijU4BELpnBe",
        "outputId": "eee69f6b-1d45-42ed-9bc5-8b30426fe3af"
      },
      "outputs": [
        {
          "name": "stdout",
          "output_type": "stream",
          "text": [
            "(800, 5039) (200, 5039)\n"
          ]
        }
      ],
      "source": [
        "# Apply standard scaling\n",
        "scaler = StandardScaler()\n",
        "Feats_Train_countvec = scaler.fit_transform( Feats_Train_countvec )\n",
        "Feats_Test_countvec = scaler.transform( Feats_Test_countvec )\n",
        "\n",
        "print( Feats_Train_countvec.shape, Feats_Test_countvec.shape )"
      ]
    },
    {
      "cell_type": "code",
      "execution_count": 33,
      "metadata": {
        "colab": {
          "base_uri": "https://localhost:8080/"
        },
        "id": "JYS5Ur8rp_zk",
        "outputId": "47a85ed0-0414-4767-e854-13084499a6e9"
      },
      "outputs": [
        {
          "name": "stdout",
          "output_type": "stream",
          "text": [
            "1.5543122344752193e-17 0.9999999999999986\n"
          ]
        }
      ],
      "source": [
        "print( np.mean(Feats_Train_countvec[:,0]), np.std(Feats_Train_countvec[:,0]) )"
      ]
    },
    {
      "cell_type": "code",
      "execution_count": 34,
      "metadata": {
        "colab": {
          "base_uri": "https://localhost:8080/",
          "height": 720
        },
        "id": "DQ-ssoTtqaDH",
        "outputId": "87807f54-923d-48ce-f3b2-80ac7a40d798"
      },
      "outputs": [
        {
          "name": "stderr",
          "output_type": "stream",
          "text": [
            "c:\\Users\\Jamshaid\\AppData\\Local\\Programs\\Python\\Python311\\Lib\\site-packages\\sklearn\\svm\\_classes.py:32: FutureWarning: The default value of `dual` will change from `True` to `'auto'` in 1.5. Set the value of `dual` explicitly to suppress the warning.\n",
            "  warnings.warn(\n",
            "c:\\Users\\Jamshaid\\AppData\\Local\\Programs\\Python\\Python311\\Lib\\site-packages\\sklearn\\svm\\_base.py:1250: ConvergenceWarning: Liblinear failed to converge, increase the number of iterations.\n",
            "  warnings.warn(\n"
          ]
        },
        {
          "name": "stdout",
          "output_type": "stream",
          "text": [
            "              precision    recall  f1-score   support\n",
            "\n",
            "           0       0.88      0.75      0.81       100\n",
            "           1       0.78      0.90      0.84       100\n",
            "\n",
            "    accuracy                           0.82       200\n",
            "   macro avg       0.83      0.82      0.82       200\n",
            "weighted avg       0.83      0.82      0.82       200\n",
            "\n"
          ]
        },
        {
          "data": {
            "image/png": "[encoded data removed]",
            "text/plain": [
              "<Figure size 800x600 with 2 Axes>"
            ]
          },
          "metadata": {},
          "output_type": "display_data"
        }
      ],
      "source": [
        "# Train an SVM classifier with the 'linear' kernel\n",
        "clf = LinearSVC( class_weight=\"balanced\", max_iter=1000, random_state=0)\n",
        "clf.fit( Feats_Train_countvec, Labs_Train)\n",
        "\n",
        "# Predict the classes of the testing data\n",
        "predLabs_Test = clf.predict( Feats_Test_countvec )\n",
        "\n",
        "# Evaluate the performance of the model using classification metrics\n",
        "print(classification_report( Labs_Test, predLabs_Test ))\n",
        "\n",
        "# Calculate the confusion matrix\n",
        "cm = confusion_matrix( Labs_Test, predLabs_Test)\n",
        "\n",
        "# Plot the confusion matrix\n",
        "plt.figure(figsize=(8, 6))\n",
        "sns.heatmap(cm, annot=True, fmt=\"d\", cmap=\"Blues\")\n",
        "plt.xlabel('Predicted label')\n",
        "plt.ylabel('True label')\n",
        "plt.title('Confusion Matrix - Count Vectorizer')\n",
        "plt.show()\n"
      ]
    }
  ],
  "metadata": {
    "colab": {
      "provenance": []
    },
    "kernelspec": {
      "display_name": "Python 3",
      "name": "python3"
    },
    "language_info": {
      "codemirror_mode": {
        "name": "ipython",
        "version": 3
      },
      "file_extension": ".py",
      "mimetype": "text/x-python",
      "name": "python",
      "nbconvert_exporter": "python",
      "pygments_lexer": "ipython3",
      "version": "3.11.5"
    }
  },
  "nbformat": 4,
  "nbformat_minor": 0
}
